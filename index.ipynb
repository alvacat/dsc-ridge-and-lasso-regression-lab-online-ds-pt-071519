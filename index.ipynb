{
 "cells": [
  {
   "cell_type": "markdown",
   "metadata": {},
   "source": [
    "# Ridge and Lasso Regression - Lab"
   ]
  },
  {
   "cell_type": "markdown",
   "metadata": {},
   "source": [
    "## Introduction"
   ]
  },
  {
   "cell_type": "markdown",
   "metadata": {},
   "source": [
    "In this lab, you'll practice your knowledge of Ridge and Lasso regression!"
   ]
  },
  {
   "cell_type": "markdown",
   "metadata": {},
   "source": [
    "## Objectives"
   ]
  },
  {
   "cell_type": "markdown",
   "metadata": {},
   "source": [
    "In this lab you will: \n",
    "\n",
    "- Use Lasso and Ridge regression with scikit-learn \n",
    "- Compare and contrast Lasso, Ridge and non-regularized regression "
   ]
  },
  {
   "cell_type": "markdown",
   "metadata": {},
   "source": [
    "## Housing Prices Data"
   ]
  },
  {
   "cell_type": "markdown",
   "metadata": {},
   "source": [
    "Let's look at yet another house pricing dataset: "
   ]
  },
  {
   "cell_type": "code",
   "execution_count": 1,
   "metadata": {},
   "outputs": [],
   "source": [
    "import pandas as pd\n",
    "import numpy as np\n",
    "from sklearn.model_selection import train_test_split\n",
    "import warnings\n",
    "warnings.filterwarnings('ignore')\n",
    "\n",
    "df = pd.read_csv('Housing_Prices/train.csv')"
   ]
  },
  {
   "cell_type": "markdown",
   "metadata": {},
   "source": [
    "Look at `.info()` of the data: "
   ]
  },
  {
   "cell_type": "code",
   "execution_count": 2,
   "metadata": {},
   "outputs": [
    {
     "name": "stdout",
     "output_type": "stream",
     "text": [
      "<class 'pandas.core.frame.DataFrame'>\n",
      "RangeIndex: 1460 entries, 0 to 1459\n",
      "Data columns (total 81 columns):\n",
      "Id               1460 non-null int64\n",
      "MSSubClass       1460 non-null int64\n",
      "MSZoning         1460 non-null object\n",
      "LotFrontage      1201 non-null float64\n",
      "LotArea          1460 non-null int64\n",
      "Street           1460 non-null object\n",
      "Alley            91 non-null object\n",
      "LotShape         1460 non-null object\n",
      "LandContour      1460 non-null object\n",
      "Utilities        1460 non-null object\n",
      "LotConfig        1460 non-null object\n",
      "LandSlope        1460 non-null object\n",
      "Neighborhood     1460 non-null object\n",
      "Condition1       1460 non-null object\n",
      "Condition2       1460 non-null object\n",
      "BldgType         1460 non-null object\n",
      "HouseStyle       1460 non-null object\n",
      "OverallQual      1460 non-null int64\n",
      "OverallCond      1460 non-null int64\n",
      "YearBuilt        1460 non-null int64\n",
      "YearRemodAdd     1460 non-null int64\n",
      "RoofStyle        1460 non-null object\n",
      "RoofMatl         1460 non-null object\n",
      "Exterior1st      1460 non-null object\n",
      "Exterior2nd      1460 non-null object\n",
      "MasVnrType       1452 non-null object\n",
      "MasVnrArea       1452 non-null float64\n",
      "ExterQual        1460 non-null object\n",
      "ExterCond        1460 non-null object\n",
      "Foundation       1460 non-null object\n",
      "BsmtQual         1423 non-null object\n",
      "BsmtCond         1423 non-null object\n",
      "BsmtExposure     1422 non-null object\n",
      "BsmtFinType1     1423 non-null object\n",
      "BsmtFinSF1       1460 non-null int64\n",
      "BsmtFinType2     1422 non-null object\n",
      "BsmtFinSF2       1460 non-null int64\n",
      "BsmtUnfSF        1460 non-null int64\n",
      "TotalBsmtSF      1460 non-null int64\n",
      "Heating          1460 non-null object\n",
      "HeatingQC        1460 non-null object\n",
      "CentralAir       1460 non-null object\n",
      "Electrical       1459 non-null object\n",
      "1stFlrSF         1460 non-null int64\n",
      "2ndFlrSF         1460 non-null int64\n",
      "LowQualFinSF     1460 non-null int64\n",
      "GrLivArea        1460 non-null int64\n",
      "BsmtFullBath     1460 non-null int64\n",
      "BsmtHalfBath     1460 non-null int64\n",
      "FullBath         1460 non-null int64\n",
      "HalfBath         1460 non-null int64\n",
      "BedroomAbvGr     1460 non-null int64\n",
      "KitchenAbvGr     1460 non-null int64\n",
      "KitchenQual      1460 non-null object\n",
      "TotRmsAbvGrd     1460 non-null int64\n",
      "Functional       1460 non-null object\n",
      "Fireplaces       1460 non-null int64\n",
      "FireplaceQu      770 non-null object\n",
      "GarageType       1379 non-null object\n",
      "GarageYrBlt      1379 non-null float64\n",
      "GarageFinish     1379 non-null object\n",
      "GarageCars       1460 non-null int64\n",
      "GarageArea       1460 non-null int64\n",
      "GarageQual       1379 non-null object\n",
      "GarageCond       1379 non-null object\n",
      "PavedDrive       1460 non-null object\n",
      "WoodDeckSF       1460 non-null int64\n",
      "OpenPorchSF      1460 non-null int64\n",
      "EnclosedPorch    1460 non-null int64\n",
      "3SsnPorch        1460 non-null int64\n",
      "ScreenPorch      1460 non-null int64\n",
      "PoolArea         1460 non-null int64\n",
      "PoolQC           7 non-null object\n",
      "Fence            281 non-null object\n",
      "MiscFeature      54 non-null object\n",
      "MiscVal          1460 non-null int64\n",
      "MoSold           1460 non-null int64\n",
      "YrSold           1460 non-null int64\n",
      "SaleType         1460 non-null object\n",
      "SaleCondition    1460 non-null object\n",
      "SalePrice        1460 non-null int64\n",
      "dtypes: float64(3), int64(35), object(43)\n",
      "memory usage: 924.0+ KB\n"
     ]
    }
   ],
   "source": [
    "# Your code here\n",
    "df.info()"
   ]
  },
  {
   "cell_type": "markdown",
   "metadata": {},
   "source": [
    "- First, split the data into `X` (predictor) and `y` (target) variables \n",
    "- Split the data into 75-25 training-test sets. Set the `random_state` to 10 \n",
    "- Remove all columns of `object` type from `X_train` and `X_test` and assign them to `X_train_cont` and `X_test_cont`, respectively "
   ]
  },
  {
   "cell_type": "code",
   "execution_count": 3,
   "metadata": {},
   "outputs": [],
   "source": [
    "# Create X and y\n",
    "y = df['SalePrice']\n",
    "X = df.drop(['SalePrice'],axis=1)\n",
    "\n",
    "# Split data into training and test sets\n",
    "X_train, X_test, y_train, y_test = train_test_split(X,y,random_state=10,test_size=0.25)\n",
    "\n",
    "# Remove \"object\"-type features from X\n",
    "cont_features = [z for z in X.columns if X[z].dtype in [np.float64, np.int64]]\n",
    "\n",
    "# Remove \"object\"-type features from X_train and X_test\n",
    "X_train_cont = X_train.loc[:, cont_features]\n",
    "X_test_cont = X_test.loc[:, cont_features]"
   ]
  },
  {
   "cell_type": "markdown",
   "metadata": {},
   "source": [
    "## Let's use this data to build a first naive linear regression model"
   ]
  },
  {
   "cell_type": "markdown",
   "metadata": {},
   "source": [
    "- Fill the missing values in data using median of the columns (use [`SimpleImputer`](https://scikit-learn.org/stable/modules/generated/sklearn.impute.SimpleImputer.html)) \n",
    "- Fit a linear regression model to this data \n",
    "- Compute the R-squared and the MSE for both the training and test sets \n"
   ]
  },
  {
   "cell_type": "code",
   "execution_count": 8,
   "metadata": {},
   "outputs": [
    {
     "name": "stdout",
     "output_type": "stream",
     "text": [
      "Training R squared: 0.8069714678400263\n",
      "Training MSE: 1212415985.7084074\n",
      "\n",
      "Testing R squared: 0.8202362411915397\n",
      "Testing MSE: 1146926057.1531413\n"
     ]
    }
   ],
   "source": [
    "from sklearn.metrics import mean_squared_error, mean_squared_log_error\n",
    "from sklearn.linear_model import LinearRegression\n",
    "from sklearn.impute import SimpleImputer\n",
    "\n",
    "# Impute missing values with median using SimpleImputer\n",
    "impute = SimpleImputer(missing_values=np.nan,strategy=\"median\")\n",
    "X_train_imputed = impute.fit_transform(X_train_cont)\n",
    "X_test_imputed = impute.fit_transform(X_test_cont)\n",
    "\n",
    "# Fit the model and print R2 and MSE for training and test sets\n",
    "linreg = LinearRegression()\n",
    "linreg.fit(X_train_imputed,y_train)\n",
    "\n",
    "train_pred=linreg.predict(X_train_imputed)\n",
    "test_pred=linreg.predict(X_test_imputed)\n",
    "\n",
    "# Print R2 and MSE for training and test sets\n",
    "train_r_sqd=linreg.score(X_train_imputed,y_train)\n",
    "test_r_sqd=linreg.score(X_test_imputed,y_test)\n",
    "\n",
    "train_mse=mean_squared_error(y_train,train_pred)\n",
    "test_mse=mean_squared_error(y_test,test_pred)\n",
    "\n",
    "print(f\"Training R squared: {train_r_sqd}\")\n",
    "print(f\"Training MSE: {train_mse}\\n\")\n",
    "\n",
    "print(f\"Testing R squared: {test_r_sqd}\")\n",
    "print(f\"Testing MSE: {test_mse}\")"
   ]
  },
  {
   "cell_type": "markdown",
   "metadata": {},
   "source": [
    "## Normalize your data"
   ]
  },
  {
   "cell_type": "markdown",
   "metadata": {},
   "source": [
    "- Normalize your data using a `StandardScalar`  \n",
    "- Fit a linear regression model to this data \n",
    "- Compute the R-squared and the MSE for both the training and test sets \n"
   ]
  },
  {
   "cell_type": "code",
   "execution_count": 11,
   "metadata": {},
   "outputs": [
    {
     "name": "stdout",
     "output_type": "stream",
     "text": [
      "Training R squared: 0.8069198233830449\n",
      "Training MSE: 1212740365.5527594\n",
      "\n",
      "Testing R squared: 0.8201173455207624\n",
      "Testing MSE: 1147684633.541402\n"
     ]
    }
   ],
   "source": [
    "from sklearn.preprocessing import StandardScaler\n",
    "\n",
    "# Scale the train and test data\n",
    "ss = StandardScaler()\n",
    "X_train_imputed_scaled = ss.fit_transform(X_train_imputed)\n",
    "X_test_imputed_scaled = ss.transform(X_test_imputed)\n",
    "\n",
    "# Fit the model\n",
    "linreg_norm = LinearRegression()\n",
    "linreg_norm.fit(X_train_imputed_scaled,y_train)\n",
    "\n",
    "linreg_train_pred=linreg_norm.predict(X_train_imputed_scaled)\n",
    "linreg_test_pred=linreg_norm.predict(X_test_imputed_scaled)\n",
    "\n",
    "# Print R2 and MSE for training and test sets\n",
    "linreg_train_r_sqd=linreg_norm.score(X_train_imputed_scaled,y_train)\n",
    "linreg_test_r_sqd=linreg_norm.score(X_test_imputed_scaled,y_test)\n",
    "\n",
    "linreg_train_mse=mean_squared_error(y_train,linreg_train_pred)\n",
    "linreg_test_mse=mean_squared_error(y_test,linreg_test_pred)\n",
    "\n",
    "print(f\"Training R squared: {linreg_train_r_sqd}\")\n",
    "print(f\"Training MSE: {linreg_train_mse}\\n\")\n",
    "\n",
    "print(f\"Testing R squared: {linreg_test_r_sqd}\")\n",
    "print(f\"Testing MSE: {linreg_test_mse}\")"
   ]
  },
  {
   "cell_type": "markdown",
   "metadata": {},
   "source": [
    "## Include categorical variables"
   ]
  },
  {
   "cell_type": "markdown",
   "metadata": {},
   "source": [
    "The above models didn't include categorical variables so far, let's include them! \n",
    "\n",
    "\n",
    "- Include all columns of `object` type from `X_train` and `X_test` and assign them to `X_train_cat` and `X_test_cat`, respectively \n",
    "- Fill missing values in all these columns with the string `'missing'` "
   ]
  },
  {
   "cell_type": "code",
   "execution_count": 12,
   "metadata": {},
   "outputs": [],
   "source": [
    "# Create X_cat which contains only the categorical variables\n",
    "features_cat = [z for z in X.columns if X[z].dtype not in [np.float64, np.int64]]\n",
    "X_train_cat = X_train.loc[:,features_cat]\n",
    "X_test_cat = X_test.loc[:,features_cat]\n",
    "\n",
    "# Fill missing values with the string 'missing'\n",
    "impute = SimpleImputer(missing_values=np.nan,strategy=\"constant\",fill_value=\"missing\")\n",
    "X_train_cat_imputed = impute.fit_transform(X_train_cat)\n",
    "X_test_cat_imputed = impute.fit_transform(X_test_cat)"
   ]
  },
  {
   "cell_type": "markdown",
   "metadata": {},
   "source": [
    "- One-hot encode all these categorical columns using `OneHotEncoder` \n",
    "- Transform the training and test DataFrames (`X_train_cat`) and (`X_test_cat`) \n",
    "- Run the given code to convert these transformed features into DataFrames "
   ]
  },
  {
   "cell_type": "code",
   "execution_count": 14,
   "metadata": {},
   "outputs": [],
   "source": [
    "from sklearn.preprocessing import OneHotEncoder\n",
    "\n",
    "# OneHotEncode categorical variables\n",
    "ohe = OneHotEncoder(handle_unknown='ignore')\n",
    "\n",
    "# Transform training and test sets\n",
    "X_train_ohe = ohe.fit_transform(X_train_cat_imputed)\n",
    "X_test_ohe = ohe.transform(X_test_cat_imputed)\n",
    "\n",
    "# Convert these columns into a DataFrame\n",
    "columns = ohe.get_feature_names(input_features=X_train_cat.columns)\n",
    "cat_train_df = pd.DataFrame(X_train_ohe.todense(), columns=columns)\n",
    "cat_test_df = pd.DataFrame(X_test_ohe.todense(), columns=columns)"
   ]
  },
  {
   "cell_type": "markdown",
   "metadata": {},
   "source": [
    "- Combine `X_train_imputed_scaled` and `cat_train_df` into a single DataFrame  \n",
    "- Similarly, combine `X_test_imputed_scaled` and `cat_test_df` into a single DataFrame "
   ]
  },
  {
   "cell_type": "code",
   "execution_count": 16,
   "metadata": {},
   "outputs": [],
   "source": [
    "# Your code here\n",
    "X_train_all = pd.concat([pd.DataFrame(X_train_imputed_scaled),cat_train_df],axis=1)\n",
    "X_test_all = pd.concat([pd.DataFrame(X_test_imputed_scaled),cat_test_df],axis=1)"
   ]
  },
  {
   "cell_type": "markdown",
   "metadata": {},
   "source": [
    "Now build a linear regression model using all the features (`X_train_all`). Also, print the R-squared and the MSE for both the training and test sets. "
   ]
  },
  {
   "cell_type": "code",
   "execution_count": 17,
   "metadata": {},
   "outputs": [
    {
     "name": "stdout",
     "output_type": "stream",
     "text": [
      "Training R squared: 0.9359994112617053\n",
      "Training MSE: 401988949.5753425\n",
      "\n",
      "Testing R squared: -8.317982290905523e+17\n",
      "Testing MSE: 5.307026675239355e+27\n"
     ]
    }
   ],
   "source": [
    "# Your code here\n",
    "linreg_all=LinearRegression()\n",
    "linreg_all.fit(X_train_all,y_train)\n",
    "\n",
    "all_train_pred=linreg_all.predict(X_train_all)\n",
    "all_test_pred=linreg_all.predict(X_test_all)\n",
    "\n",
    "all_train_r2=linreg_all.score(X_train_all,y_train)\n",
    "all_test_r2=linreg_all.score(X_test_all,y_test)\n",
    "\n",
    "all_train_mse=mean_squared_error(y_train,all_train_pred)\n",
    "all_test_mse=mean_squared_error(y_test,all_test_pred)\n",
    "\n",
    "print(f\"Training R squared: {all_train_r2}\")\n",
    "print(f\"Training MSE: {all_train_mse}\\n\")\n",
    "\n",
    "print(f\"Testing R squared: {all_test_r2}\")\n",
    "print(f\"Testing MSE: {all_test_mse}\")"
   ]
  },
  {
   "cell_type": "markdown",
   "metadata": {},
   "source": [
    "Notice the severe overfitting above; our training R-squared is very high, but the test R-squared is negative! Similarly, the scale of the test MSE is orders of magnitude higher than that of the training MSE."
   ]
  },
  {
   "cell_type": "markdown",
   "metadata": {},
   "source": [
    "## Ridge and Lasso regression"
   ]
  },
  {
   "cell_type": "markdown",
   "metadata": {},
   "source": [
    "Use all the data (normalized features and dummy categorical variables, `X_train_all`) to build two models - one each for Lasso and Ridge regression. Each time, look at R-squared and MSE. "
   ]
  },
  {
   "cell_type": "markdown",
   "metadata": {},
   "source": [
    "## Lasso"
   ]
  },
  {
   "cell_type": "markdown",
   "metadata": {},
   "source": [
    "#### With default parameter (alpha = 1)"
   ]
  },
  {
   "cell_type": "code",
   "execution_count": 22,
   "metadata": {},
   "outputs": [
    {
     "name": "stdout",
     "output_type": "stream",
     "text": [
      "Training R squared: 0.9359681086176651\n",
      "Training MSE: 402185562.09476906\n",
      "\n",
      "Testing R squared: 0.8886774108036876\n",
      "Testing MSE: 710258725.9262213\n"
     ]
    }
   ],
   "source": [
    "from sklearn.linear_model import Lasso, Ridge\n",
    "\n",
    "lasso = Lasso(alpha=1)\n",
    "lasso.fit(X_train_all, y_train)\n",
    "\n",
    "lasso_train_pred=lasso.predict(X_train_all)\n",
    "lasso_test_pred=lasso.predict(X_test_all)\n",
    "\n",
    "lasso_train_r2=lasso.score(X_train_all,y_train)\n",
    "lasso_test_r2=lasso.score(X_test_all,y_test)\n",
    "\n",
    "lasso_train_mse=mean_squared_error(y_train,lasso_train_pred)\n",
    "lasso_test_mse=mean_squared_error(y_test,lasso_test_pred)\n",
    "\n",
    "print(f\"Training R squared: {lasso_train_r2}\")\n",
    "print(f\"Training MSE: {lasso_train_mse}\\n\")\n",
    "\n",
    "print(f\"Testing R squared: {lasso_test_r2}\")\n",
    "print(f\"Testing MSE: {lasso_test_mse}\")"
   ]
  },
  {
   "cell_type": "markdown",
   "metadata": {},
   "source": [
    "#### With a higher regularization parameter (alpha = 10)"
   ]
  },
  {
   "cell_type": "code",
   "execution_count": 23,
   "metadata": {},
   "outputs": [
    {
     "name": "stdout",
     "output_type": "stream",
     "text": [
      "Training R squared: 0.9343826511712741\n",
      "Training MSE: 412143851.3235961\n",
      "\n",
      "Testing R squared: 0.8966769715994978\n",
      "Testing MSE: 659220047.2553363\n"
     ]
    }
   ],
   "source": [
    "# Your code here\n",
    "lasso2 = Lasso(alpha=10)\n",
    "lasso2.fit(X_train_all, y_train)\n",
    "\n",
    "lasso2_train_pred=lasso2.predict(X_train_all)\n",
    "lasso2_test_pred=lasso2.predict(X_test_all)\n",
    "\n",
    "lasso2_train_r2=lasso2.score(X_train_all,y_train)\n",
    "lasso2_test_r2=lasso2.score(X_test_all,y_test)\n",
    "\n",
    "lasso2_train_mse=mean_squared_error(y_train,lasso2_train_pred)\n",
    "lasso2_test_mse=mean_squared_error(y_test,lasso2_test_pred)\n",
    "\n",
    "print(f\"Training R squared: {lasso2_train_r2}\")\n",
    "print(f\"Training MSE: {lasso2_train_mse}\\n\")\n",
    "\n",
    "print(f\"Testing R squared: {lasso2_test_r2}\")\n",
    "print(f\"Testing MSE: {lasso2_test_mse}\")"
   ]
  },
  {
   "cell_type": "markdown",
   "metadata": {},
   "source": [
    "## Ridge"
   ]
  },
  {
   "cell_type": "markdown",
   "metadata": {},
   "source": [
    "#### With default parameter (alpha = 1)"
   ]
  },
  {
   "cell_type": "code",
   "execution_count": 24,
   "metadata": {},
   "outputs": [
    {
     "name": "stdout",
     "output_type": "stream",
     "text": [
      "Training R squared: 0.9231940244796027\n",
      "Training MSE: 482419834.39880174\n",
      "\n",
      "Testing R squared: 0.884226284635951\n",
      "Testing MSE: 738657734.821517\n"
     ]
    }
   ],
   "source": [
    "# Your code here\n",
    "ridge = Ridge(alpha=1)\n",
    "ridge.fit(X_train_all, y_train)\n",
    "\n",
    "ridge_train_pred=ridge.predict(X_train_all)\n",
    "ridge_test_pred=ridge.predict(X_test_all)\n",
    "\n",
    "ridge_train_r2=ridge.score(X_train_all,y_train)\n",
    "ridge_test_r2=ridge.score(X_test_all,y_test)\n",
    "\n",
    "ridge_train_mse=mean_squared_error(y_train,ridge_train_pred)\n",
    "ridge_test_mse=mean_squared_error(y_test,ridge_test_pred)\n",
    "\n",
    "print(f\"Training R squared: {ridge_train_r2}\")\n",
    "print(f\"Training MSE: {ridge_train_mse}\\n\")\n",
    "\n",
    "print(f\"Testing R squared: {ridge_test_r2}\")\n",
    "print(f\"Testing MSE: {ridge_test_mse}\")"
   ]
  },
  {
   "cell_type": "markdown",
   "metadata": {},
   "source": [
    "#### With default parameter (alpha = 10)"
   ]
  },
  {
   "cell_type": "code",
   "execution_count": 26,
   "metadata": {},
   "outputs": [
    {
     "name": "stdout",
     "output_type": "stream",
     "text": [
      "Training R squared: 0.8990002650425941\n",
      "Training MSE: 634381310.599134\n",
      "\n",
      "Testing R squared: 0.8834211676790189\n",
      "Testing MSE: 743794530.041432\n"
     ]
    }
   ],
   "source": [
    "# Your code here\n",
    "ridge2 = Ridge(alpha=10)\n",
    "ridge2.fit(X_train_all, y_train)\n",
    "\n",
    "ridge2_train_pred=ridge2.predict(X_train_all)\n",
    "ridge2_test_pred=ridge2.predict(X_test_all)\n",
    "\n",
    "ridge2_train_r2=ridge2.score(X_train_all,y_train)\n",
    "ridge2_test_r2=ridge2.score(X_test_all,y_test)\n",
    "\n",
    "ridge2_train_mse=mean_squared_error(y_train,ridge2_train_pred)\n",
    "ridge2_test_mse=mean_squared_error(y_test,ridge2_test_pred)\n",
    "\n",
    "print(f\"Training R squared: {ridge2_train_r2}\")\n",
    "print(f\"Training MSE: {ridge2_train_mse}\\n\")\n",
    "\n",
    "print(f\"Testing R squared: {ridge2_test_r2}\")\n",
    "print(f\"Testing MSE: {ridge2_test_mse}\")"
   ]
  },
  {
   "cell_type": "markdown",
   "metadata": {},
   "source": [
    "## Compare the metrics    \n",
    "\n",
    "Write your conclusions here: \n",
    "_________________________________\n",
    "\n",
    "Looks like the second lasso model gives the best R squared for both the training and testing sets."
   ]
  },
  {
   "cell_type": "markdown",
   "metadata": {},
   "source": [
    "## Compare number of parameter estimates that are (very close to) 0 for Ridge and Lasso\n",
    "\n",
    "Use 10**(-10) as an estimate that is very close to 0. "
   ]
  },
  {
   "cell_type": "code",
   "execution_count": 30,
   "metadata": {},
   "outputs": [
    {
     "name": "stdout",
     "output_type": "stream",
     "text": [
      "Ridge 1: 0\n",
      "Ridge 2: 0\n"
     ]
    }
   ],
   "source": [
    "# Number of Ridge params almost zero\n",
    "print(f'Ridge 1: {sum(abs(ridge.coef_)<10**(-10))}')\n",
    "print(f'Ridge 2: {sum(abs(ridge2.coef_)<10**(-10))}')"
   ]
  },
  {
   "cell_type": "code",
   "execution_count": 31,
   "metadata": {},
   "outputs": [
    {
     "name": "stdout",
     "output_type": "stream",
     "text": [
      "Lasso 1: 34\n",
      "Lasso 2: 77\n"
     ]
    }
   ],
   "source": [
    "# Number of Lasso params almost zero\n",
    "print(f'Lasso 1: {sum(abs(lasso.coef_)<10**(-10))}')\n",
    "print(f'Lasso 2: {sum(abs(lasso2.coef_)<10**(-10))}')"
   ]
  },
  {
   "cell_type": "code",
   "execution_count": 33,
   "metadata": {},
   "outputs": [
    {
     "name": "stdout",
     "output_type": "stream",
     "text": [
      "Lasso 1\n",
      "296\n",
      "0.11486486486486487\n",
      "\n",
      "Lasso 2\n",
      "296\n",
      "0.26013513513513514\n"
     ]
    }
   ],
   "source": [
    "print(\"Lasso 1\")\n",
    "print(len(lasso.coef_))\n",
    "print(sum(abs(lasso.coef_) < 10**(-10))/ len(lasso.coef_))\n",
    "print(\"\\nLasso 2\")\n",
    "print(len(lasso2.coef_))\n",
    "print(sum(abs(lasso2.coef_) < 10**(-10))/ len(lasso2.coef_))"
   ]
  },
  {
   "cell_type": "markdown",
   "metadata": {},
   "source": [
    "Lasso was very effective to essentially perform variable selection and remove about 25% of the variables from your model!"
   ]
  },
  {
   "cell_type": "markdown",
   "metadata": {},
   "source": [
    "## Put it all together"
   ]
  },
  {
   "cell_type": "markdown",
   "metadata": {},
   "source": [
    "To bring all of our work together lets take a moment to put all of our preprocessing steps for categorical and continuous variables into one function. This function should take in our features as a dataframe `X` and target as a Series `y` and return a training and test DataFrames with all of our preprocessed features along with training and test targets. "
   ]
  },
  {
   "cell_type": "code",
   "execution_count": 34,
   "metadata": {},
   "outputs": [],
   "source": [
    "def preprocess(X, y):\n",
    "    '''Takes in features and target and implements all preprocessing steps for categorical and continuous features returning \n",
    "    train and test DataFrames with targets'''\n",
    "    \n",
    "    # Train-test split (75-25), set seed to 10\n",
    "    X_train, X_test, y_train, y_test = train_test_split(X,y,random_state=10,test_size=0.25)\n",
    "    \n",
    "    # Remove \"object\"-type features and SalesPrice from X\n",
    "    cont_features = [z for z in X.columns if X[z].dtype in [np.float64, np.int64]]\n",
    "    X_train_cont = X_train.loc[:, cont_features]\n",
    "    X_test_cont = X_test.loc[:, cont_features]\n",
    "\n",
    "    # Impute missing values with median using SimpleImputer\n",
    "    impute = SimpleImputer(missing_values=np.nan,strategy=\"median\")\n",
    "    X_train_imputed = impute.fit_transform(X_train_cont)\n",
    "    X_test_imputed = impute.fit_transform(X_test_cont)\n",
    "\n",
    "    # Scale the train and test data\n",
    "    ss = StandardScaler()\n",
    "    X_train_imputed_scaled = ss.fit_transform(X_train_imputed)\n",
    "    X_test_imputed_scaled = ss.transform(X_test_imputed)\n",
    "\n",
    "    # Create X_cat which contains only the categorical variables\n",
    "    features_cat = [z for z in X.columns if X[z].dtype not in [np.float64, np.int64]]\n",
    "    X_train_cat = X_train.loc[:,features_cat]\n",
    "    X_test_cat = X_test.loc[:,features_cat]\n",
    "\n",
    "    # Fill nans with a value indicating that that it is missing\n",
    "    impute = SimpleImputer(missing_values=np.nan,strategy=\"constant\",fill_value=\"missing\")\n",
    "    X_train_cat_imputed = impute.fit_transform(X_train_cat)\n",
    "    X_test_cat_imputed = impute.fit_transform(X_test_cat)\n",
    "\n",
    "    # OneHotEncode Categorical variables\n",
    "    ohe = OneHotEncoder(handle_unknown='ignore')\n",
    "    X_train_ohe = ohe.fit_transform(X_train_cat_imputed)\n",
    "    X_test_ohe = ohe.transform(X_test_cat_imputed)\n",
    "    \n",
    "    # Combine categorical and continuous features into the final dataframe\n",
    "    columns = ohe.get_feature_names(input_features=X_train_cat.columns)\n",
    "    cat_train_df = pd.DataFrame(X_train_ohe.todense(), columns=columns)\n",
    "    cat_test_df = pd.DataFrame(X_test_ohe.todense(), columns=columns)\n",
    "    X_train_all = pd.concat([pd.DataFrame(X_train_imputed_scaled),cat_train_df],axis=1)\n",
    "    X_test_all = pd.concat([pd.DataFrame(X_test_imputed_scaled),cat_test_df],axis=1)\n",
    "    \n",
    "    return X_train_all, X_test_all, y_train, y_test"
   ]
  },
  {
   "cell_type": "markdown",
   "metadata": {},
   "source": [
    "### Graph the training and test error to find optimal alpha values\n",
    "\n",
    "Earlier we tested two values of alpha to see how it effected our MSE and the value of our coefficients. We could continue to guess values of alpha for our Ridge or Lasso regression one at a time to see which values minimize our loss, or we can test a range of values and pick the alpha which minimizes our MSE. Here is an example of how we would do this:  "
   ]
  },
  {
   "cell_type": "code",
   "execution_count": 35,
   "metadata": {},
   "outputs": [],
   "source": [
    "X_train_all, X_test_all, y_train, y_test = preprocess(X, y)\n",
    "\n",
    "train_mse = []\n",
    "test_mse = []\n",
    "alphas = []\n",
    "\n",
    "for alpha in np.linspace(0, 200, num=50):\n",
    "    lasso = Lasso(alpha=alpha)\n",
    "    lasso.fit(X_train_all, y_train)\n",
    "    \n",
    "    train_preds = lasso.predict(X_train_all)\n",
    "    train_mse.append(mean_squared_error(y_train, train_preds))\n",
    "    \n",
    "    test_preds = lasso.predict(X_test_all)\n",
    "    test_mse.append(mean_squared_error(y_test, test_preds))\n",
    "    \n",
    "    alphas.append(alpha)"
   ]
  },
  {
   "cell_type": "code",
   "execution_count": 36,
   "metadata": {},
   "outputs": [
    {
     "name": "stdout",
     "output_type": "stream",
     "text": [
      "Optimal Alpha Value: 40\n"
     ]
    },
    {
     "data": {
      "image/png": "[encoded data removed]",
      "text/plain": [
       "<Figure size 432x288 with 1 Axes>"
      ]
     },
     "metadata": {
      "needs_background": "light"
     },
     "output_type": "display_data"
    }
   ],
   "source": [
    "import matplotlib.pyplot as plt\n",
    "%matplotlib inline\n",
    "\n",
    "fig, ax = plt.subplots()\n",
    "ax.plot(alphas, train_mse, label='Train')\n",
    "ax.plot(alphas, test_mse, label='Test')\n",
    "ax.set_xlabel('Alpha')\n",
    "ax.set_ylabel('MSE')\n",
    "\n",
    "# np.argmin() returns the index of the minimum value in a list\n",
    "optimal_alpha = alphas[np.argmin(test_mse)]\n",
    "\n",
    "# Add a vertical line where the test MSE is minimized\n",
    "ax.axvline(optimal_alpha, color='black', linestyle='--')\n",
    "ax.legend();\n",
    "\n",
    "print(f'Optimal Alpha Value: {int(optimal_alpha)}')"
   ]
  },
  {
   "cell_type": "markdown",
   "metadata": {},
   "source": [
    "Take a look at this graph of our training and test MSE against alpha. Try to explain to yourself why the shapes of the training and test curves are this way. Make sure to think about what alpha represents and how it relates to overfitting vs underfitting."
   ]
  },
  {
   "cell_type": "markdown",
   "metadata": {},
   "source": [
    "## Summary\n",
    "\n",
    "Well done! You now know how to build Lasso and Ridge regression models, use them for feature selection and find an optimal value for $\\text{alpha}$. "
   ]
  }
 ],
 "metadata": {
  "kernelspec": {
   "display_name": "Python 3",
   "language": "python",
   "name": "python3"
  },
  "language_info": {
   "codemirror_mode": {
    "name": "ipython",
    "version": 3
   },
   "file_extension": ".py",
   "mimetype": "text/x-python",
   "name": "python",
   "nbconvert_exporter": "python",
   "pygments_lexer": "ipython3",
   "version": "3.7.3"
  }
 },
 "nbformat": 4,
 "nbformat_minor": 2
}
